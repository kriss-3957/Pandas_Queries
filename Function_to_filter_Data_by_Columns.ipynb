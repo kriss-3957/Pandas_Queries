{
 "cells": [
  {
   "cell_type": "code",
   "execution_count": null,
   "id": "8a1a29b8",
   "metadata": {},
   "outputs": [],
   "source": []
  },
  {
   "cell_type": "code",
   "execution_count": null,
   "id": "f72d9216",
   "metadata": {},
   "outputs": [],
   "source": [
    "# Dataset_ Link = \"https://www.kaggle.com/datasets/overload10/adult-census-dataset\""
   ]
  },
  {
   "cell_type": "code",
   "execution_count": null,
   "id": "02ee2538",
   "metadata": {},
   "outputs": [],
   "source": [
    "# Importing required libraries\n",
    "\n",
    "import numpy as np\n",
    "import pandas as pd\n",
    "import matplotlib.pyplot as plt\n",
    "import seaborn as sns\n",
    "\n",
    "# Ignoring warnings\n",
    "\n",
    "import warnings \n",
    "warnings.filterwarnings(action='ignore')"
   ]
  },
  {
   "cell_type": "code",
   "execution_count": null,
   "id": "71f19864",
   "metadata": {},
   "outputs": [],
   "source": [
    "\n",
    "dataset = pd.read_csv(\"adult.csv\")\n",
    "dataset"
   ]
  },
  {
   "cell_type": "code",
   "execution_count": null,
   "id": "0bef8555",
   "metadata": {},
   "outputs": [],
   "source": [
    "# We are trying to build a function, with the functionality that it can filter our dataframe, given any specific column values."
   ]
  },
  {
   "cell_type": "code",
   "execution_count": null,
   "id": "29c30a1b",
   "metadata": {},
   "outputs": [],
   "source": [
    "dataset['workclass'] = dataset['workclass'].str.strip()\n",
    "dataset['education'] = dataset['education'].str.strip()"
   ]
  },
  {
   "cell_type": "code",
   "execution_count": null,
   "id": "f4c828d8",
   "metadata": {},
   "outputs": [],
   "source": [
    "dup2 = dataset[(dataset['age']== 25) & (dataset['workclass']== 'Private') & (dataset['education']== 'Bachelors')]\n",
    "dup2.head(50)"
   ]
  },
  {
   "cell_type": "code",
   "execution_count": null,
   "id": "41973690",
   "metadata": {},
   "outputs": [],
   "source": []
  },
  {
   "cell_type": "code",
   "execution_count": null,
   "id": "26abbc38",
   "metadata": {},
   "outputs": [],
   "source": []
  },
  {
   "cell_type": "code",
   "execution_count": null,
   "id": "6e0e44f6",
   "metadata": {},
   "outputs": [],
   "source": []
  },
  {
   "cell_type": "code",
   "execution_count": null,
   "id": "adb24b6b",
   "metadata": {},
   "outputs": [],
   "source": []
  },
  {
   "cell_type": "code",
   "execution_count": null,
   "id": "42968fc2",
   "metadata": {},
   "outputs": [],
   "source": []
  }
 ],
 "metadata": {
  "kernelspec": {
   "display_name": "Python 3 (ipykernel)",
   "language": "python",
   "name": "python3"
  },
  "language_info": {
   "codemirror_mode": {
    "name": "ipython",
    "version": 3
   },
   "file_extension": ".py",
   "mimetype": "text/x-python",
   "name": "python",
   "nbconvert_exporter": "python",
   "pygments_lexer": "ipython3",
   "version": "3.9.7"
  }
 },
 "nbformat": 4,
 "nbformat_minor": 5
}
