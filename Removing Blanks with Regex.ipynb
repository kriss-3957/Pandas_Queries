{
 "cells": [
  {
   "cell_type": "code",
   "execution_count": 1,
   "id": "0f586307",
   "metadata": {},
   "outputs": [],
   "source": [
    "import pandas as pd\n",
    "import re\n",
    "import numpy as np"
   ]
  },
  {
   "cell_type": "code",
   "execution_count": 5,
   "id": "a94bb035",
   "metadata": {},
   "outputs": [],
   "source": [
    "# create a sample DataFrame\n",
    "df = pd.DataFrame({'A': ['   ', 'foo', 'bar', '  baz  '],\n",
    "                   'B': ['', '  bar  ', 'foo', '  '],\n",
    "                   'C': ['baz', 'qux', '  fg ', 'quux']})"
   ]
  },
  {
   "cell_type": "code",
   "execution_count": 6,
   "id": "d5ecb201",
   "metadata": {},
   "outputs": [],
   "source": [
    "df['A'] = df['A'].astype(str)\n",
    "df['B'] = df['B'].astype(str)\n",
    "df['C'] = df['C'].astype(str)"
   ]
  },
  {
   "cell_type": "code",
   "execution_count": 11,
   "id": "135bd2d0",
   "metadata": {
    "collapsed": true
   },
   "outputs": [
    {
     "data": {
      "text/html": [
       "<div>\n",
       "<style scoped>\n",
       "    .dataframe tbody tr th:only-of-type {\n",
       "        vertical-align: middle;\n",
       "    }\n",
       "\n",
       "    .dataframe tbody tr th {\n",
       "        vertical-align: top;\n",
       "    }\n",
       "\n",
       "    .dataframe thead th {\n",
       "        text-align: right;\n",
       "    }\n",
       "</style>\n",
       "<table border=\"1\" class=\"dataframe\">\n",
       "  <thead>\n",
       "    <tr style=\"text-align: right;\">\n",
       "      <th></th>\n",
       "      <th>A</th>\n",
       "      <th>B</th>\n",
       "      <th>C</th>\n",
       "    </tr>\n",
       "  </thead>\n",
       "  <tbody>\n",
       "    <tr>\n",
       "      <th>0</th>\n",
       "      <td></td>\n",
       "      <td></td>\n",
       "      <td>baz</td>\n",
       "    </tr>\n",
       "    <tr>\n",
       "      <th>1</th>\n",
       "      <td>foo</td>\n",
       "      <td>bar</td>\n",
       "      <td>qux</td>\n",
       "    </tr>\n",
       "    <tr>\n",
       "      <th>2</th>\n",
       "      <td>bar</td>\n",
       "      <td>foo</td>\n",
       "      <td>fg</td>\n",
       "    </tr>\n",
       "    <tr>\n",
       "      <th>3</th>\n",
       "      <td>baz</td>\n",
       "      <td></td>\n",
       "      <td>quux</td>\n",
       "    </tr>\n",
       "  </tbody>\n",
       "</table>\n",
       "</div>"
      ],
      "text/plain": [
       "         A        B      C\n",
       "0                      baz\n",
       "1      foo    bar      qux\n",
       "2      bar      foo    fg \n",
       "3    baz              quux"
      ]
     },
     "execution_count": 11,
     "metadata": {},
     "output_type": "execute_result"
    }
   ],
   "source": [
    "df"
   ]
  },
  {
   "cell_type": "code",
   "execution_count": 7,
   "id": "431fa704",
   "metadata": {},
   "outputs": [
    {
     "data": {
      "text/plain": [
       "A    object\n",
       "B    object\n",
       "C    object\n",
       "dtype: object"
      ]
     },
     "execution_count": 7,
     "metadata": {},
     "output_type": "execute_result"
    }
   ],
   "source": [
    "# convert all elements in the DataFrame to strings\n",
    "df = df.applymap(lambda x: str(x) if type(x) in [int, float, str] else '')\n",
    "df.dtypes"
   ]
  },
  {
   "cell_type": "code",
   "execution_count": 8,
   "id": "5cc7d329",
   "metadata": {},
   "outputs": [
    {
     "data": {
      "text/plain": [
       "A    object\n",
       "B    object\n",
       "C    object\n",
       "dtype: object"
      ]
     },
     "execution_count": 8,
     "metadata": {},
     "output_type": "execute_result"
    }
   ],
   "source": [
    "#  df.applymap(str)\n",
    "# df.dtypes    \n"
   ]
  },
  {
   "cell_type": "code",
   "execution_count": 9,
   "id": "c0069edd",
   "metadata": {},
   "outputs": [],
   "source": [
    "# detect rows that contain only whitespace characters\n",
    "rows_with_whitespace = df.loc[df.apply(lambda x: all(re.match(r'^\\s*$', i.strip()) is not None for i in x), axis=1)]"
   ]
  },
  {
   "cell_type": "code",
   "execution_count": 10,
   "id": "37f7d123",
   "metadata": {},
   "outputs": [
    {
     "name": "stdout",
     "output_type": "stream",
     "text": [
      "Empty DataFrame\n",
      "Columns: [A, B, C]\n",
      "Index: []\n"
     ]
    }
   ],
   "source": [
    "print(rows_with_whitespace)"
   ]
  },
  {
   "cell_type": "code",
   "execution_count": null,
   "id": "64b31b37",
   "metadata": {},
   "outputs": [],
   "source": []
  },
  {
   "cell_type": "code",
   "execution_count": null,
   "id": "3b9f1386",
   "metadata": {},
   "outputs": [],
   "source": []
  },
  {
   "cell_type": "code",
   "execution_count": null,
   "id": "c28fd1cc",
   "metadata": {},
   "outputs": [],
   "source": []
  },
  {
   "cell_type": "code",
   "execution_count": null,
   "id": "cd7fe49e",
   "metadata": {},
   "outputs": [],
   "source": []
  },
  {
   "cell_type": "code",
   "execution_count": null,
   "id": "35d0082c",
   "metadata": {},
   "outputs": [],
   "source": []
  },
  {
   "cell_type": "code",
   "execution_count": null,
   "id": "2d3b0749",
   "metadata": {},
   "outputs": [],
   "source": [
    "# detect rows that contain only whitespace characters\n",
    "rows_with_whitespace = df[(df.astype(str).replace('\\s+', '', regex=True).replace('', np.nan) == np.nan).all(axis=1)]\n"
   ]
  },
  {
   "cell_type": "code",
   "execution_count": null,
   "id": "43e54c08",
   "metadata": {},
   "outputs": [],
   "source": []
  },
  {
   "cell_type": "code",
   "execution_count": null,
   "id": "f067d38e",
   "metadata": {},
   "outputs": [],
   "source": []
  },
  {
   "cell_type": "code",
   "execution_count": null,
   "id": "cfffae3b",
   "metadata": {},
   "outputs": [],
   "source": []
  },
  {
   "cell_type": "code",
   "execution_count": null,
   "id": "9f40889c",
   "metadata": {},
   "outputs": [],
   "source": []
  },
  {
   "cell_type": "code",
   "execution_count": null,
   "id": "5621df11",
   "metadata": {},
   "outputs": [],
   "source": []
  },
  {
   "cell_type": "code",
   "execution_count": null,
   "id": "a3abea1f",
   "metadata": {},
   "outputs": [],
   "source": []
  },
  {
   "cell_type": "code",
   "execution_count": null,
   "id": "495f4277",
   "metadata": {},
   "outputs": [],
   "source": []
  },
  {
   "cell_type": "code",
   "execution_count": null,
   "id": "a65dde49",
   "metadata": {},
   "outputs": [],
   "source": []
  },
  {
   "cell_type": "code",
   "execution_count": null,
   "id": "d20d0350",
   "metadata": {},
   "outputs": [],
   "source": []
  },
  {
   "cell_type": "code",
   "execution_count": null,
   "id": "5a6ffae7",
   "metadata": {},
   "outputs": [],
   "source": []
  },
  {
   "cell_type": "code",
   "execution_count": null,
   "id": "565523ad",
   "metadata": {},
   "outputs": [],
   "source": []
  },
  {
   "cell_type": "code",
   "execution_count": null,
   "id": "1c48dd9e",
   "metadata": {},
   "outputs": [],
   "source": []
  },
  {
   "cell_type": "code",
   "execution_count": null,
   "id": "45e7b861",
   "metadata": {},
   "outputs": [],
   "source": []
  },
  {
   "cell_type": "code",
   "execution_count": null,
   "id": "d6b8a21b",
   "metadata": {},
   "outputs": [],
   "source": []
  },
  {
   "cell_type": "code",
   "execution_count": null,
   "id": "5db7183a",
   "metadata": {},
   "outputs": [],
   "source": []
  },
  {
   "cell_type": "code",
   "execution_count": null,
   "id": "aa8ec5f0",
   "metadata": {},
   "outputs": [],
   "source": []
  },
  {
   "cell_type": "code",
   "execution_count": null,
   "id": "46dd3d9e",
   "metadata": {},
   "outputs": [],
   "source": [
    "import pandas as pd\n",
    "import re\n",
    "\n",
    "# create a sample DataFrame\n",
    "df = pd.DataFrame({'A': ['   ', 'foo', 'bar', '  baz  '],\n",
    "                   'B': ['', '  bar  ', 'foo', '  '],\n",
    "                   'C': ['baz', 'qux', '   ', 'quux']})\n",
    "\n",
    "# detect rows that contain only whitespace characters\n",
    "rows_with_whitespace = df[(df.astype(str).replace('\\s+', '', regex=True).replace('', np.nan) == np.nan).all(axis=1)]\n",
    "\n",
    "print(rows_with_whitespace)\n"
   ]
  },
  {
   "cell_type": "code",
   "execution_count": null,
   "id": "47325c3b",
   "metadata": {},
   "outputs": [],
   "source": [
    "import pandas as pd\n",
    "import re\n",
    "\n",
    "# create a sample DataFrame\n",
    "df = pd.DataFrame({'A': ['   ', 'foo', 'bar', '  baz  '],\n",
    "                   'B': ['', '  bar  ', 'foo', '  '],\n",
    "                   'C': ['baz', 'qux', '   ', 'quux']})"
   ]
  },
  {
   "cell_type": "code",
   "execution_count": null,
   "id": "35f271bb",
   "metadata": {},
   "outputs": [],
   "source": [
    "# convert all elements in the DataFrame to strings\n",
    "df = df.applymap(lambda x: str(x) if type(x) in [int, float, str] else '')\n",
    "df.dtyes"
   ]
  },
  {
   "cell_type": "code",
   "execution_count": null,
   "id": "1a4a9054",
   "metadata": {},
   "outputs": [],
   "source": [
    "# detect rows that contain only whitespace characters\n",
    "rows_with_whitespace = df.loc[df.apply(lambda x: (re.match(r'^\\s*$', x.str.strip()) is not None)).all(axis=1)]\n",
    "\n",
    "print(rows_with_whitespace)"
   ]
  },
  {
   "cell_type": "code",
   "execution_count": null,
   "id": "9f4fcc31",
   "metadata": {},
   "outputs": [],
   "source": [
    "import pandas as pd\n",
    "import re\n",
    "\n",
    "# create a sample DataFrame\n",
    "df = pd.DataFrame({'A': ['   ', 'foo', 'bar', '  baz  '],\n",
    "                   'B': ['', '  bar  ', 'foo', '  '],\n",
    "                   'C': ['baz', 'qux', '   ', 'quux']})\n",
    "\n",
    "# convert all elements in the DataFrame to strings\n",
    "df = df.applymap(str)\n",
    "\n",
    "# detect rows that contain only whitespace characters\n",
    "rows_with_whitespace = df.loc[df.apply(lambda x: (re.match(r'^\\s*$', x.str.strip()) is not None)).all(axis=1)]\n",
    "\n",
    "print(rows_with_whitespace)\n"
   ]
  },
  {
   "cell_type": "code",
   "execution_count": null,
   "id": "ef5db204",
   "metadata": {},
   "outputs": [],
   "source": [
    "import pandas as pd\n",
    "import re\n",
    "\n",
    "# create a sample DataFrame\n",
    "df = pd.DataFrame({'A': ['   ', 'foo', 'bar', '  baz  '],\n",
    "                   'B': ['', '  bar  ', 'foo', '  '],\n",
    "                   'C': ['baz', 'qux', '   ', 'quux']})\n",
    "\n",
    "# convert all elements in the DataFrame to strings\n",
    "df = df.astype(str)\n",
    "\n",
    "# detect rows that contain only whitespace characters\n",
    "rows_with_whitespace = df.loc[df.apply(lambda x: (re.match(r'^\\s*$', x.str.strip()) is not None)).all(axis=1)]\n",
    "\n",
    "print(rows_with_whitespace)\n"
   ]
  },
  {
   "cell_type": "code",
   "execution_count": null,
   "id": "d3028d2f",
   "metadata": {},
   "outputs": [],
   "source": [
    "import pandas as pd\n",
    "import re\n",
    "\n",
    "# create a sample DataFrame\n",
    "df = pd.DataFrame({'A': ['   ', 'foo', 'bar', '  baz  '],\n",
    "                   'B': ['', '  bar  ', 'foo', '  '],\n",
    "                   'C': ['baz', 'qux', '   ', 'quux']})\n",
    "\n",
    "# convert all elements in the DataFrame to strings\n",
    "df = df.astype(str)\n",
    "\n",
    "# detect rows that contain only whitespace characters\n",
    "rows_with_whitespace = df.loc[df.apply(lambda x: (re.match(r'^\\s*$', x.str.strip()) is not None)).all(axis=1)]\n",
    "\n",
    "print(rows_with_whitespace)\n"
   ]
  },
  {
   "cell_type": "code",
   "execution_count": null,
   "id": "cca8a2ff",
   "metadata": {},
   "outputs": [],
   "source": [
    "import pandas as pd\n",
    "import re\n",
    "\n",
    "# create a sample DataFrame\n",
    "df = pd.DataFrame({'A': ['   ', 'foo', 'bar', '  baz  '],\n",
    "                   'B': ['', '  bar  ', 'foo', '  '],\n",
    "                   'C': ['baz', 'qux', '   ', 'quux']})\n",
    "\n",
    "# detect rows that contain only whitespace characters\n",
    "rows_with_whitespace = df.loc[df.apply(lambda x: (re.match(r'^\\s*$', x.str.strip()) is not None)).all(axis=1)]\n",
    "\n",
    "print(rows_with_whitespace)\n"
   ]
  },
  {
   "cell_type": "code",
   "execution_count": null,
   "id": "530c3831",
   "metadata": {},
   "outputs": [],
   "source": []
  },
  {
   "cell_type": "code",
   "execution_count": null,
   "id": "4b4f3518",
   "metadata": {},
   "outputs": [],
   "source": []
  },
  {
   "cell_type": "code",
   "execution_count": null,
   "id": "8e5177d0",
   "metadata": {},
   "outputs": [],
   "source": []
  },
  {
   "cell_type": "code",
   "execution_count": null,
   "id": "a8455ff0",
   "metadata": {},
   "outputs": [],
   "source": []
  },
  {
   "cell_type": "code",
   "execution_count": null,
   "id": "61d87237",
   "metadata": {},
   "outputs": [],
   "source": []
  },
  {
   "cell_type": "code",
   "execution_count": null,
   "id": "e9023160",
   "metadata": {},
   "outputs": [],
   "source": []
  },
  {
   "cell_type": "code",
   "execution_count": null,
   "id": "1804a2de",
   "metadata": {},
   "outputs": [],
   "source": []
  },
  {
   "cell_type": "code",
   "execution_count": null,
   "id": "6fb5a84a",
   "metadata": {},
   "outputs": [],
   "source": []
  },
  {
   "cell_type": "code",
   "execution_count": null,
   "id": "69b199ac",
   "metadata": {},
   "outputs": [],
   "source": []
  },
  {
   "cell_type": "code",
   "execution_count": null,
   "id": "c64b8a3b",
   "metadata": {},
   "outputs": [],
   "source": []
  },
  {
   "cell_type": "code",
   "execution_count": null,
   "id": "47beb8d3",
   "metadata": {},
   "outputs": [],
   "source": []
  }
 ],
 "metadata": {
  "kernelspec": {
   "display_name": "Python 3 (ipykernel)",
   "language": "python",
   "name": "python3"
  },
  "language_info": {
   "codemirror_mode": {
    "name": "ipython",
    "version": 3
   },
   "file_extension": ".py",
   "mimetype": "text/x-python",
   "name": "python",
   "nbconvert_exporter": "python",
   "pygments_lexer": "ipython3",
   "version": "3.9.7"
  }
 },
 "nbformat": 4,
 "nbformat_minor": 5
}
